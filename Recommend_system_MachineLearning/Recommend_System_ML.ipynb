{
 "cells": [
  {
   "cell_type": "markdown",
   "metadata": {},
   "source": [
    "##  Import modules\n",
    "- **pandas** and numpy for data manipulation\n",
    "- **turicreate** for performing model selection and evaluation\n",
    "- **sklearn** for splitting the data into train and test set"
   ]
  },
  {
   "cell_type": "code",
   "execution_count": 32,
   "metadata": {},
   "outputs": [],
   "source": [
    "import pandas as pd\n",
    "import numpy as np\n",
    "import matplotlib.pyplot as plt\n",
    "import seaborn as sns\n",
    "from sklearn.model_selection import train_test_split\n",
    "import turicreate as tc\n",
    "%matplotlib inline\n"
   ]
  },
  {
   "cell_type": "markdown",
   "metadata": {},
   "source": [
    "## Load Data"
   ]
  },
  {
   "cell_type": "code",
   "execution_count": 43,
   "metadata": {},
   "outputs": [],
   "source": [
    "customers_df = pd.read_csv('recommend_1.csv')\n",
    "transactions_df = pd.read_csv('trx_data.csv')"
   ]
  },
  {
   "cell_type": "code",
   "execution_count": 44,
   "metadata": {},
   "outputs": [
    {
     "name": "stdout",
     "output_type": "stream",
     "text": [
      "(1000, 1)\n"
     ]
    },
    {
     "data": {
      "text/html": [
       "<div>\n",
       "<style scoped>\n",
       "    .dataframe tbody tr th:only-of-type {\n",
       "        vertical-align: middle;\n",
       "    }\n",
       "\n",
       "    .dataframe tbody tr th {\n",
       "        vertical-align: top;\n",
       "    }\n",
       "\n",
       "    .dataframe thead th {\n",
       "        text-align: right;\n",
       "    }\n",
       "</style>\n",
       "<table border=\"1\" class=\"dataframe\">\n",
       "  <thead>\n",
       "    <tr style=\"text-align: right;\">\n",
       "      <th></th>\n",
       "      <th>customerId</th>\n",
       "    </tr>\n",
       "  </thead>\n",
       "  <tbody>\n",
       "    <tr>\n",
       "      <th>0</th>\n",
       "      <td>1553</td>\n",
       "    </tr>\n",
       "    <tr>\n",
       "      <th>1</th>\n",
       "      <td>20400</td>\n",
       "    </tr>\n",
       "    <tr>\n",
       "      <th>2</th>\n",
       "      <td>19750</td>\n",
       "    </tr>\n",
       "    <tr>\n",
       "      <th>3</th>\n",
       "      <td>6334</td>\n",
       "    </tr>\n",
       "    <tr>\n",
       "      <th>4</th>\n",
       "      <td>27773</td>\n",
       "    </tr>\n",
       "  </tbody>\n",
       "</table>\n",
       "</div>"
      ],
      "text/plain": [
       "   customerId\n",
       "0        1553\n",
       "1       20400\n",
       "2       19750\n",
       "3        6334\n",
       "4       27773"
      ]
     },
     "execution_count": 44,
     "metadata": {},
     "output_type": "execute_result"
    }
   ],
   "source": [
    "print(customers_df.shape)\n",
    "customers_df.head()"
   ]
  },
  {
   "cell_type": "code",
   "execution_count": 45,
   "metadata": {},
   "outputs": [
    {
     "name": "stdout",
     "output_type": "stream",
     "text": [
      "(62483, 2)\n"
     ]
    },
    {
     "data": {
      "text/html": [
       "<div>\n",
       "<style scoped>\n",
       "    .dataframe tbody tr th:only-of-type {\n",
       "        vertical-align: middle;\n",
       "    }\n",
       "\n",
       "    .dataframe tbody tr th {\n",
       "        vertical-align: top;\n",
       "    }\n",
       "\n",
       "    .dataframe thead th {\n",
       "        text-align: right;\n",
       "    }\n",
       "</style>\n",
       "<table border=\"1\" class=\"dataframe\">\n",
       "  <thead>\n",
       "    <tr style=\"text-align: right;\">\n",
       "      <th></th>\n",
       "      <th>customerId</th>\n",
       "      <th>products</th>\n",
       "    </tr>\n",
       "  </thead>\n",
       "  <tbody>\n",
       "    <tr>\n",
       "      <th>0</th>\n",
       "      <td>0</td>\n",
       "      <td>20</td>\n",
       "    </tr>\n",
       "    <tr>\n",
       "      <th>1</th>\n",
       "      <td>1</td>\n",
       "      <td>2|2|23|68|68|111|29|86|107|152</td>\n",
       "    </tr>\n",
       "    <tr>\n",
       "      <th>2</th>\n",
       "      <td>2</td>\n",
       "      <td>111|107|29|11|11|11|33|23</td>\n",
       "    </tr>\n",
       "    <tr>\n",
       "      <th>3</th>\n",
       "      <td>3</td>\n",
       "      <td>164|227</td>\n",
       "    </tr>\n",
       "    <tr>\n",
       "      <th>4</th>\n",
       "      <td>5</td>\n",
       "      <td>2|2</td>\n",
       "    </tr>\n",
       "  </tbody>\n",
       "</table>\n",
       "</div>"
      ],
      "text/plain": [
       "   customerId                        products\n",
       "0           0                              20\n",
       "1           1  2|2|23|68|68|111|29|86|107|152\n",
       "2           2       111|107|29|11|11|11|33|23\n",
       "3           3                         164|227\n",
       "4           5                             2|2"
      ]
     },
     "execution_count": 45,
     "metadata": {},
     "output_type": "execute_result"
    }
   ],
   "source": [
    "print(transactions_df.shape)\n",
    "transactions_df.head()"
   ]
  },
  {
   "cell_type": "markdown",
   "metadata": {},
   "source": [
    "## Create data with user, item, and target field"
   ]
  },
  {
   "cell_type": "code",
   "execution_count": 46,
   "metadata": {},
   "outputs": [],
   "source": [
    "transactions_df['products'] = transactions_df['products'].apply(lambda x: [int(i) for i in x.split('|')])"
   ]
  },
  {
   "cell_type": "code",
   "execution_count": 47,
   "metadata": {},
   "outputs": [
    {
     "data": {
      "text/html": [
       "<div>\n",
       "<style scoped>\n",
       "    .dataframe tbody tr th:only-of-type {\n",
       "        vertical-align: middle;\n",
       "    }\n",
       "\n",
       "    .dataframe tbody tr th {\n",
       "        vertical-align: top;\n",
       "    }\n",
       "\n",
       "    .dataframe thead th {\n",
       "        text-align: right;\n",
       "    }\n",
       "</style>\n",
       "<table border=\"1\" class=\"dataframe\">\n",
       "  <thead>\n",
       "    <tr style=\"text-align: right;\">\n",
       "      <th></th>\n",
       "      <th>customerId</th>\n",
       "      <th>products</th>\n",
       "    </tr>\n",
       "  </thead>\n",
       "  <tbody>\n",
       "    <tr>\n",
       "      <th>0</th>\n",
       "      <td>0</td>\n",
       "      <td>[20]</td>\n",
       "    </tr>\n",
       "    <tr>\n",
       "      <th>1</th>\n",
       "      <td>1</td>\n",
       "      <td>[2, 2, 23, 68, 68, 111, 29, 86, 107, 152]</td>\n",
       "    </tr>\n",
       "    <tr>\n",
       "      <th>2</th>\n",
       "      <td>2</td>\n",
       "      <td>[111, 107, 29, 11, 11, 11, 33, 23]</td>\n",
       "    </tr>\n",
       "    <tr>\n",
       "      <th>3</th>\n",
       "      <td>3</td>\n",
       "      <td>[164, 227]</td>\n",
       "    </tr>\n",
       "    <tr>\n",
       "      <th>4</th>\n",
       "      <td>5</td>\n",
       "      <td>[2, 2]</td>\n",
       "    </tr>\n",
       "  </tbody>\n",
       "</table>\n",
       "</div>"
      ],
      "text/plain": [
       "   customerId                                   products\n",
       "0           0                                       [20]\n",
       "1           1  [2, 2, 23, 68, 68, 111, 29, 86, 107, 152]\n",
       "2           2         [111, 107, 29, 11, 11, 11, 33, 23]\n",
       "3           3                                 [164, 227]\n",
       "4           5                                     [2, 2]"
      ]
     },
     "execution_count": 47,
     "metadata": {},
     "output_type": "execute_result"
    }
   ],
   "source": [
    "transactions_df.head()"
   ]
  },
  {
   "cell_type": "code",
   "execution_count": 48,
   "metadata": {},
   "outputs": [
    {
     "data": {
      "text/html": [
       "<div>\n",
       "<style scoped>\n",
       "    .dataframe tbody tr th:only-of-type {\n",
       "        vertical-align: middle;\n",
       "    }\n",
       "\n",
       "    .dataframe tbody tr th {\n",
       "        vertical-align: top;\n",
       "    }\n",
       "\n",
       "    .dataframe thead th {\n",
       "        text-align: right;\n",
       "    }\n",
       "</style>\n",
       "<table border=\"1\" class=\"dataframe\">\n",
       "  <thead>\n",
       "    <tr style=\"text-align: right;\">\n",
       "      <th></th>\n",
       "      <th>customerId</th>\n",
       "      <th>productId</th>\n",
       "      <th>purchase_count</th>\n",
       "    </tr>\n",
       "  </thead>\n",
       "  <tbody>\n",
       "    <tr>\n",
       "      <th>0</th>\n",
       "      <td>0</td>\n",
       "      <td>1</td>\n",
       "      <td>2</td>\n",
       "    </tr>\n",
       "    <tr>\n",
       "      <th>1</th>\n",
       "      <td>0</td>\n",
       "      <td>13</td>\n",
       "      <td>1</td>\n",
       "    </tr>\n",
       "    <tr>\n",
       "      <th>2</th>\n",
       "      <td>0</td>\n",
       "      <td>19</td>\n",
       "      <td>3</td>\n",
       "    </tr>\n",
       "    <tr>\n",
       "      <th>3</th>\n",
       "      <td>0</td>\n",
       "      <td>20</td>\n",
       "      <td>1</td>\n",
       "    </tr>\n",
       "    <tr>\n",
       "      <th>4</th>\n",
       "      <td>0</td>\n",
       "      <td>31</td>\n",
       "      <td>2</td>\n",
       "    </tr>\n",
       "  </tbody>\n",
       "</table>\n",
       "</div>"
      ],
      "text/plain": [
       "   customerId  productId  purchase_count\n",
       "0           0          1               2\n",
       "1           0         13               1\n",
       "2           0         19               3\n",
       "3           0         20               1\n",
       "4           0         31               2"
      ]
     },
     "execution_count": 48,
     "metadata": {},
     "output_type": "execute_result"
    }
   ],
   "source": [
    "#Data Preperation\n",
    "data = pd.melt(transactions_df.set_index('customerId')['products'].apply(pd.Series).reset_index(), \n",
    "             id_vars=['customerId'],\n",
    "             value_name='products')\\\n",
    "    .dropna().drop(['variable'], axis=1) \\\n",
    "    .groupby(['customerId', 'products']) \\\n",
    "    .agg({'products': 'count'}) \\\n",
    "    .rename(columns={'products': 'purchase_count'}) \\\n",
    "    .reset_index() \\\n",
    "    .rename(columns={'products': 'productId'})\n",
    "data['productId'] = data['productId'].astype(np.int64)\n",
    "data.head()"
   ]
  },
  {
   "cell_type": "code",
   "execution_count": 49,
   "metadata": {},
   "outputs": [
    {
     "data": {
      "text/plain": [
       "(133585, 3)"
      ]
     },
     "execution_count": 49,
     "metadata": {},
     "output_type": "execute_result"
    }
   ],
   "source": [
    "data.shape"
   ]
  },
  {
   "cell_type": "code",
   "execution_count": 50,
   "metadata": {},
   "outputs": [
    {
     "data": {
      "text/html": [
       "<div>\n",
       "<style scoped>\n",
       "    .dataframe tbody tr th:only-of-type {\n",
       "        vertical-align: middle;\n",
       "    }\n",
       "\n",
       "    .dataframe tbody tr th {\n",
       "        vertical-align: top;\n",
       "    }\n",
       "\n",
       "    .dataframe thead th {\n",
       "        text-align: right;\n",
       "    }\n",
       "</style>\n",
       "<table border=\"1\" class=\"dataframe\">\n",
       "  <thead>\n",
       "    <tr style=\"text-align: right;\">\n",
       "      <th></th>\n",
       "      <th>customerId</th>\n",
       "      <th>productId</th>\n",
       "      <th>purchase_count</th>\n",
       "    </tr>\n",
       "  </thead>\n",
       "  <tbody>\n",
       "    <tr>\n",
       "      <th>0</th>\n",
       "      <td>0</td>\n",
       "      <td>1</td>\n",
       "      <td>2</td>\n",
       "    </tr>\n",
       "    <tr>\n",
       "      <th>1</th>\n",
       "      <td>0</td>\n",
       "      <td>13</td>\n",
       "      <td>1</td>\n",
       "    </tr>\n",
       "    <tr>\n",
       "      <th>2</th>\n",
       "      <td>0</td>\n",
       "      <td>19</td>\n",
       "      <td>3</td>\n",
       "    </tr>\n",
       "    <tr>\n",
       "      <th>3</th>\n",
       "      <td>0</td>\n",
       "      <td>20</td>\n",
       "      <td>1</td>\n",
       "    </tr>\n",
       "    <tr>\n",
       "      <th>4</th>\n",
       "      <td>0</td>\n",
       "      <td>31</td>\n",
       "      <td>2</td>\n",
       "    </tr>\n",
       "  </tbody>\n",
       "</table>\n",
       "</div>"
      ],
      "text/plain": [
       "   customerId  productId  purchase_count\n",
       "0           0          1               2\n",
       "1           0         13               1\n",
       "2           0         19               3\n",
       "3           0         20               1\n",
       "4           0         31               2"
      ]
     },
     "execution_count": 50,
     "metadata": {},
     "output_type": "execute_result"
    }
   ],
   "source": [
    "data.head()"
   ]
  },
  {
   "cell_type": "markdown",
   "metadata": {},
   "source": [
    "## Train test split"
   ]
  },
  {
   "cell_type": "code",
   "execution_count": 60,
   "metadata": {},
   "outputs": [
    {
     "name": "stdout",
     "output_type": "stream",
     "text": [
      "(106868, 3) (26717, 3)\n"
     ]
    }
   ],
   "source": [
    "train, test = train_test_split(data, test_size = .2)\n",
    "print(train.shape, test.shape)\n",
    "\n"
   ]
  },
  {
   "cell_type": "code",
   "execution_count": 61,
   "metadata": {},
   "outputs": [],
   "source": [
    "# Using turicreate library, we convert dataframe to SFrame - this will be useful in the modeling part\n",
    "\n",
    "train_data = tc.SFrame(train)\n",
    "test_data = tc.SFrame(test)"
   ]
  },
  {
   "cell_type": "code",
   "execution_count": 62,
   "metadata": {},
   "outputs": [
    {
     "data": {
      "text/html": [
       "<div style=\"max-height:1000px;max-width:1500px;overflow:auto;\"><table frame=\"box\" rules=\"cols\">\n",
       "    <tr>\n",
       "        <th style=\"padding-left: 1em; padding-right: 1em; text-align: center\">customerId</th>\n",
       "        <th style=\"padding-left: 1em; padding-right: 1em; text-align: center\">productId</th>\n",
       "        <th style=\"padding-left: 1em; padding-right: 1em; text-align: center\">purchase_count</th>\n",
       "    </tr>\n",
       "    <tr>\n",
       "        <td style=\"padding-left: 1em; padding-right: 1em; text-align: center; vertical-align: top\">2488</td>\n",
       "        <td style=\"padding-left: 1em; padding-right: 1em; text-align: center; vertical-align: top\">5</td>\n",
       "        <td style=\"padding-left: 1em; padding-right: 1em; text-align: center; vertical-align: top\">1</td>\n",
       "    </tr>\n",
       "    <tr>\n",
       "        <td style=\"padding-left: 1em; padding-right: 1em; text-align: center; vertical-align: top\">8413</td>\n",
       "        <td style=\"padding-left: 1em; padding-right: 1em; text-align: center; vertical-align: top\">29</td>\n",
       "        <td style=\"padding-left: 1em; padding-right: 1em; text-align: center; vertical-align: top\">2</td>\n",
       "    </tr>\n",
       "    <tr>\n",
       "        <td style=\"padding-left: 1em; padding-right: 1em; text-align: center; vertical-align: top\">3336</td>\n",
       "        <td style=\"padding-left: 1em; padding-right: 1em; text-align: center; vertical-align: top\">196</td>\n",
       "        <td style=\"padding-left: 1em; padding-right: 1em; text-align: center; vertical-align: top\">1</td>\n",
       "    </tr>\n",
       "    <tr>\n",
       "        <td style=\"padding-left: 1em; padding-right: 1em; text-align: center; vertical-align: top\">2478</td>\n",
       "        <td style=\"padding-left: 1em; padding-right: 1em; text-align: center; vertical-align: top\">21</td>\n",
       "        <td style=\"padding-left: 1em; padding-right: 1em; text-align: center; vertical-align: top\">1</td>\n",
       "    </tr>\n",
       "    <tr>\n",
       "        <td style=\"padding-left: 1em; padding-right: 1em; text-align: center; vertical-align: top\">21799</td>\n",
       "        <td style=\"padding-left: 1em; padding-right: 1em; text-align: center; vertical-align: top\">135</td>\n",
       "        <td style=\"padding-left: 1em; padding-right: 1em; text-align: center; vertical-align: top\">1</td>\n",
       "    </tr>\n",
       "    <tr>\n",
       "        <td style=\"padding-left: 1em; padding-right: 1em; text-align: center; vertical-align: top\">19565</td>\n",
       "        <td style=\"padding-left: 1em; padding-right: 1em; text-align: center; vertical-align: top\">206</td>\n",
       "        <td style=\"padding-left: 1em; padding-right: 1em; text-align: center; vertical-align: top\">4</td>\n",
       "    </tr>\n",
       "    <tr>\n",
       "        <td style=\"padding-left: 1em; padding-right: 1em; text-align: center; vertical-align: top\">13155</td>\n",
       "        <td style=\"padding-left: 1em; padding-right: 1em; text-align: center; vertical-align: top\">14</td>\n",
       "        <td style=\"padding-left: 1em; padding-right: 1em; text-align: center; vertical-align: top\">1</td>\n",
       "    </tr>\n",
       "    <tr>\n",
       "        <td style=\"padding-left: 1em; padding-right: 1em; text-align: center; vertical-align: top\">8096</td>\n",
       "        <td style=\"padding-left: 1em; padding-right: 1em; text-align: center; vertical-align: top\">4</td>\n",
       "        <td style=\"padding-left: 1em; padding-right: 1em; text-align: center; vertical-align: top\">3</td>\n",
       "    </tr>\n",
       "    <tr>\n",
       "        <td style=\"padding-left: 1em; padding-right: 1em; text-align: center; vertical-align: top\">4712</td>\n",
       "        <td style=\"padding-left: 1em; padding-right: 1em; text-align: center; vertical-align: top\">10</td>\n",
       "        <td style=\"padding-left: 1em; padding-right: 1em; text-align: center; vertical-align: top\">3</td>\n",
       "    </tr>\n",
       "    <tr>\n",
       "        <td style=\"padding-left: 1em; padding-right: 1em; text-align: center; vertical-align: top\">4685</td>\n",
       "        <td style=\"padding-left: 1em; padding-right: 1em; text-align: center; vertical-align: top\">235</td>\n",
       "        <td style=\"padding-left: 1em; padding-right: 1em; text-align: center; vertical-align: top\">2</td>\n",
       "    </tr>\n",
       "</table>\n",
       "[10 rows x 3 columns]<br/>\n",
       "</div>"
      ],
      "text/plain": [
       "Columns:\n",
       "\tcustomerId\tint\n",
       "\tproductId\tint\n",
       "\tpurchase_count\tint\n",
       "\n",
       "Rows: 10\n",
       "\n",
       "Data:\n",
       "+------------+-----------+----------------+\n",
       "| customerId | productId | purchase_count |\n",
       "+------------+-----------+----------------+\n",
       "|    2488    |     5     |       1        |\n",
       "|    8413    |     29    |       2        |\n",
       "|    3336    |    196    |       1        |\n",
       "|    2478    |     21    |       1        |\n",
       "|   21799    |    135    |       1        |\n",
       "|   19565    |    206    |       4        |\n",
       "|   13155    |     14    |       1        |\n",
       "|    8096    |     4     |       3        |\n",
       "|    4712    |     10    |       3        |\n",
       "|    4685    |    235    |       2        |\n",
       "+------------+-----------+----------------+\n",
       "[10 rows x 3 columns]"
      ]
     },
     "execution_count": 62,
     "metadata": {},
     "output_type": "execute_result"
    }
   ],
   "source": [
    "train_data.head()"
   ]
  },
  {
   "cell_type": "code",
   "execution_count": 63,
   "metadata": {},
   "outputs": [
    {
     "data": {
      "text/html": [
       "<div style=\"max-height:1000px;max-width:1500px;overflow:auto;\"><table frame=\"box\" rules=\"cols\">\n",
       "    <tr>\n",
       "        <th style=\"padding-left: 1em; padding-right: 1em; text-align: center\">customerId</th>\n",
       "        <th style=\"padding-left: 1em; padding-right: 1em; text-align: center\">productId</th>\n",
       "        <th style=\"padding-left: 1em; padding-right: 1em; text-align: center\">purchase_count</th>\n",
       "    </tr>\n",
       "    <tr>\n",
       "        <td style=\"padding-left: 1em; padding-right: 1em; text-align: center; vertical-align: top\">25635</td>\n",
       "        <td style=\"padding-left: 1em; padding-right: 1em; text-align: center; vertical-align: top\">297</td>\n",
       "        <td style=\"padding-left: 1em; padding-right: 1em; text-align: center; vertical-align: top\">1</td>\n",
       "    </tr>\n",
       "    <tr>\n",
       "        <td style=\"padding-left: 1em; padding-right: 1em; text-align: center; vertical-align: top\">13169</td>\n",
       "        <td style=\"padding-left: 1em; padding-right: 1em; text-align: center; vertical-align: top\">218</td>\n",
       "        <td style=\"padding-left: 1em; padding-right: 1em; text-align: center; vertical-align: top\">1</td>\n",
       "    </tr>\n",
       "    <tr>\n",
       "        <td style=\"padding-left: 1em; padding-right: 1em; text-align: center; vertical-align: top\">1078</td>\n",
       "        <td style=\"padding-left: 1em; padding-right: 1em; text-align: center; vertical-align: top\">6</td>\n",
       "        <td style=\"padding-left: 1em; padding-right: 1em; text-align: center; vertical-align: top\">2</td>\n",
       "    </tr>\n",
       "    <tr>\n",
       "        <td style=\"padding-left: 1em; padding-right: 1em; text-align: center; vertical-align: top\">4862</td>\n",
       "        <td style=\"padding-left: 1em; padding-right: 1em; text-align: center; vertical-align: top\">41</td>\n",
       "        <td style=\"padding-left: 1em; padding-right: 1em; text-align: center; vertical-align: top\">3</td>\n",
       "    </tr>\n",
       "    <tr>\n",
       "        <td style=\"padding-left: 1em; padding-right: 1em; text-align: center; vertical-align: top\">19824</td>\n",
       "        <td style=\"padding-left: 1em; padding-right: 1em; text-align: center; vertical-align: top\">125</td>\n",
       "        <td style=\"padding-left: 1em; padding-right: 1em; text-align: center; vertical-align: top\">1</td>\n",
       "    </tr>\n",
       "    <tr>\n",
       "        <td style=\"padding-left: 1em; padding-right: 1em; text-align: center; vertical-align: top\">19492</td>\n",
       "        <td style=\"padding-left: 1em; padding-right: 1em; text-align: center; vertical-align: top\">121</td>\n",
       "        <td style=\"padding-left: 1em; padding-right: 1em; text-align: center; vertical-align: top\">2</td>\n",
       "    </tr>\n",
       "    <tr>\n",
       "        <td style=\"padding-left: 1em; padding-right: 1em; text-align: center; vertical-align: top\">10313</td>\n",
       "        <td style=\"padding-left: 1em; padding-right: 1em; text-align: center; vertical-align: top\">1</td>\n",
       "        <td style=\"padding-left: 1em; padding-right: 1em; text-align: center; vertical-align: top\">2</td>\n",
       "    </tr>\n",
       "    <tr>\n",
       "        <td style=\"padding-left: 1em; padding-right: 1em; text-align: center; vertical-align: top\">604</td>\n",
       "        <td style=\"padding-left: 1em; padding-right: 1em; text-align: center; vertical-align: top\">174</td>\n",
       "        <td style=\"padding-left: 1em; padding-right: 1em; text-align: center; vertical-align: top\">1</td>\n",
       "    </tr>\n",
       "    <tr>\n",
       "        <td style=\"padding-left: 1em; padding-right: 1em; text-align: center; vertical-align: top\">5117</td>\n",
       "        <td style=\"padding-left: 1em; padding-right: 1em; text-align: center; vertical-align: top\">285</td>\n",
       "        <td style=\"padding-left: 1em; padding-right: 1em; text-align: center; vertical-align: top\">1</td>\n",
       "    </tr>\n",
       "    <tr>\n",
       "        <td style=\"padding-left: 1em; padding-right: 1em; text-align: center; vertical-align: top\">18675</td>\n",
       "        <td style=\"padding-left: 1em; padding-right: 1em; text-align: center; vertical-align: top\">147</td>\n",
       "        <td style=\"padding-left: 1em; padding-right: 1em; text-align: center; vertical-align: top\">3</td>\n",
       "    </tr>\n",
       "</table>\n",
       "[10 rows x 3 columns]<br/>\n",
       "</div>"
      ],
      "text/plain": [
       "Columns:\n",
       "\tcustomerId\tint\n",
       "\tproductId\tint\n",
       "\tpurchase_count\tint\n",
       "\n",
       "Rows: 10\n",
       "\n",
       "Data:\n",
       "+------------+-----------+----------------+\n",
       "| customerId | productId | purchase_count |\n",
       "+------------+-----------+----------------+\n",
       "|   25635    |    297    |       1        |\n",
       "|   13169    |    218    |       1        |\n",
       "|    1078    |     6     |       2        |\n",
       "|    4862    |     41    |       3        |\n",
       "|   19824    |    125    |       1        |\n",
       "|   19492    |    121    |       2        |\n",
       "|   10313    |     1     |       2        |\n",
       "|    604     |    174    |       1        |\n",
       "|    5117    |    285    |       1        |\n",
       "|   18675    |    147    |       3        |\n",
       "+------------+-----------+----------------+\n",
       "[10 rows x 3 columns]"
      ]
     },
     "execution_count": 63,
     "metadata": {},
     "output_type": "execute_result"
    }
   ],
   "source": [
    "test_data.head()"
   ]
  },
  {
   "cell_type": "code",
   "execution_count": 55,
   "metadata": {},
   "outputs": [],
   "source": [
    "def model(train_data, name, user_id, item_id, target, users_to_recommend, n_rec, n_display):\n",
    "    if name == 'popularity':\n",
    "        model = tc.popularity_recommender.create(train_data, \n",
    "                                                    user_id=user_id, \n",
    "                                                    item_id=item_id, \n",
    "                                                    target=target)\n",
    "    elif name == 'cosine':\n",
    "        model = tc.item_similarity_recommender.create(train_data, \n",
    "                                                    user_id=user_id, \n",
    "                                                    item_id=item_id, \n",
    "                                                    target=target, \n",
    "                                                    similarity_type='cosine')\n",
    "    elif name == 'pearson':\n",
    "        model = tc.item_similarity_recommender.create(train_data, \n",
    "                                                    user_id=user_id, \n",
    "                                                    item_id=item_id, \n",
    "                                                    target=target, \n",
    "                                                    similarity_type='pearson')\n",
    "        \n",
    "    recom = model.recommend(users=users_to_recommend, k=n_rec)\n",
    "    recom.print_rows(n_display)\n",
    "    return model"
   ]
  },
  {
   "cell_type": "markdown",
   "metadata": {},
   "source": [
    "## Popularity model"
   ]
  },
  {
   "cell_type": "code",
   "execution_count": 54,
   "metadata": {},
   "outputs": [],
   "source": [
    "# constant variables to define field names include:\n",
    "user_id = 'customerId'\n",
    "item_id = 'productId'\n",
    "users_to_recommend = list(customers_df[user_id])\n",
    "n_rec = 10           # number of items to recommend\n",
    "n_display = 30       # to display the first few rows in an output dataset"
   ]
  },
  {
   "cell_type": "code",
   "execution_count": 67,
   "metadata": {},
   "outputs": [
    {
     "data": {
      "text/html": [
       "<pre>Preparing data set.</pre>"
      ],
      "text/plain": [
       "Preparing data set."
      ]
     },
     "metadata": {},
     "output_type": "display_data"
    },
    {
     "data": {
      "text/html": [
       "<pre>    Data has 106868 observations with 23335 users and 300 items.</pre>"
      ],
      "text/plain": [
       "    Data has 106868 observations with 23335 users and 300 items."
      ]
     },
     "metadata": {},
     "output_type": "display_data"
    },
    {
     "data": {
      "text/html": [
       "<pre>    Data prepared in: 0.115462s</pre>"
      ],
      "text/plain": [
       "    Data prepared in: 0.115462s"
      ]
     },
     "metadata": {},
     "output_type": "display_data"
    },
    {
     "data": {
      "text/html": [
       "<pre>Training model from provided data.</pre>"
      ],
      "text/plain": [
       "Training model from provided data."
      ]
     },
     "metadata": {},
     "output_type": "display_data"
    },
    {
     "data": {
      "text/html": [
       "<pre>Gathering per-item and per-user statistics.</pre>"
      ],
      "text/plain": [
       "Gathering per-item and per-user statistics."
      ]
     },
     "metadata": {},
     "output_type": "display_data"
    },
    {
     "data": {
      "text/html": [
       "<pre>+--------------------------------+------------+</pre>"
      ],
      "text/plain": [
       "+--------------------------------+------------+"
      ]
     },
     "metadata": {},
     "output_type": "display_data"
    },
    {
     "data": {
      "text/html": [
       "<pre>| Elapsed Time (Item Statistics) | % Complete |</pre>"
      ],
      "text/plain": [
       "| Elapsed Time (Item Statistics) | % Complete |"
      ]
     },
     "metadata": {},
     "output_type": "display_data"
    },
    {
     "data": {
      "text/html": [
       "<pre>+--------------------------------+------------+</pre>"
      ],
      "text/plain": [
       "+--------------------------------+------------+"
      ]
     },
     "metadata": {},
     "output_type": "display_data"
    },
    {
     "data": {
      "text/html": [
       "<pre>| 786us                          | 4.25       |</pre>"
      ],
      "text/plain": [
       "| 786us                          | 4.25       |"
      ]
     },
     "metadata": {},
     "output_type": "display_data"
    },
    {
     "data": {
      "text/html": [
       "<pre>| 4.319ms                        | 100        |</pre>"
      ],
      "text/plain": [
       "| 4.319ms                        | 100        |"
      ]
     },
     "metadata": {},
     "output_type": "display_data"
    },
    {
     "data": {
      "text/html": [
       "<pre>+--------------------------------+------------+</pre>"
      ],
      "text/plain": [
       "+--------------------------------+------------+"
      ]
     },
     "metadata": {},
     "output_type": "display_data"
    },
    {
     "data": {
      "text/html": [
       "<pre>Setting up lookup tables.</pre>"
      ],
      "text/plain": [
       "Setting up lookup tables."
      ]
     },
     "metadata": {},
     "output_type": "display_data"
    },
    {
     "data": {
      "text/html": [
       "<pre>Processing data in one pass using dense lookup tables.</pre>"
      ],
      "text/plain": [
       "Processing data in one pass using dense lookup tables."
      ]
     },
     "metadata": {},
     "output_type": "display_data"
    },
    {
     "data": {
      "text/html": [
       "<pre>+-------------------------------------+------------------+-----------------+</pre>"
      ],
      "text/plain": [
       "+-------------------------------------+------------------+-----------------+"
      ]
     },
     "metadata": {},
     "output_type": "display_data"
    },
    {
     "data": {
      "text/html": [
       "<pre>| Elapsed Time (Constructing Lookups) | Total % Complete | Items Processed |</pre>"
      ],
      "text/plain": [
       "| Elapsed Time (Constructing Lookups) | Total % Complete | Items Processed |"
      ]
     },
     "metadata": {},
     "output_type": "display_data"
    },
    {
     "data": {
      "text/html": [
       "<pre>+-------------------------------------+------------------+-----------------+</pre>"
      ],
      "text/plain": [
       "+-------------------------------------+------------------+-----------------+"
      ]
     },
     "metadata": {},
     "output_type": "display_data"
    },
    {
     "name": "stdout",
     "output_type": "stream",
     "text": [
      "+------------+-----------+--------------------+------+\n",
      "| customerId | productId |       score        | rank |\n",
      "+------------+-----------+--------------------+------+\n",
      "|    1553    |    132    | 3.132075471698114  |  1   |\n",
      "|    1553    |     37    | 3.026869787005928  |  2   |\n",
      "|    1553    |     0     |  2.99531301079582  |  3   |\n",
      "|    1553    |     34    | 2.9865962935216497 |  4   |\n",
      "|    1553    |    248    | 2.9756782460212703 |  5   |\n",
      "|    1553    |     3     | 2.887990766087498  |  6   |\n",
      "|    1553    |     27    | 2.7462686567164187 |  7   |\n",
      "|    1553    |    230    | 2.663540114585618  |  8   |\n",
      "|    1553    |     10    |  2.64264264264264  |  9   |\n",
      "|    1553    |    110    | 2.6418561810392087 |  10  |\n",
      "|   20400    |    132    | 3.132075471698114  |  1   |\n",
      "|   20400    |     37    | 3.0275590551181106 |  2   |\n",
      "|   20400    |     34    | 3.0075757575757573 |  3   |\n",
      "|   20400    |     0     | 2.997274212225187  |  4   |\n",
      "|   20400    |    248    | 2.9799999999999995 |  5   |\n",
      "|   20400    |     3     | 2.8872124933395047 |  6   |\n",
      "|   20400    |     27    | 2.7462686567164187 |  7   |\n",
      "|   20400    |    230    | 2.669172932330827  |  8   |\n",
      "|   20400    |    110    | 2.6436781609195417 |  9   |\n",
      "|   20400    |     10    |  2.64264264264264  |  10  |\n",
      "|   19750    |    132    | 3.1293754408944334 |  1   |\n",
      "|   19750    |     37    | 3.0254392556631036 |  2   |\n",
      "|   19750    |     34    | 3.003557351502505  |  3   |\n",
      "|   19750    |     0     | 2.9985398075818104 |  4   |\n",
      "|   19750    |    248    | 2.9792956519126887 |  5   |\n",
      "|   19750    |     3     | 2.887041169722205  |  6   |\n",
      "|   19750    |     27    | 2.7462686567164187 |  7   |\n",
      "|   19750    |    230    | 2.669172932330827  |  8   |\n",
      "|   19750    |     10    |  2.64264264264264  |  9   |\n",
      "|   19750    |    110    | 2.6398972793557194 |  10  |\n",
      "+------------+-----------+--------------------+------+\n",
      "[10000 rows x 4 columns]\n",
      "\n"
     ]
    },
    {
     "data": {
      "text/html": [
       "<pre>| 5.231ms                             | 0                | 0               |</pre>"
      ],
      "text/plain": [
       "| 5.231ms                             | 0                | 0               |"
      ]
     },
     "metadata": {},
     "output_type": "display_data"
    },
    {
     "data": {
      "text/html": [
       "<pre>| 15.078ms                            | 100              | 300             |</pre>"
      ],
      "text/plain": [
       "| 15.078ms                            | 100              | 300             |"
      ]
     },
     "metadata": {},
     "output_type": "display_data"
    },
    {
     "data": {
      "text/html": [
       "<pre>+-------------------------------------+------------------+-----------------+</pre>"
      ],
      "text/plain": [
       "+-------------------------------------+------------------+-----------------+"
      ]
     },
     "metadata": {},
     "output_type": "display_data"
    },
    {
     "data": {
      "text/html": [
       "<pre>Finalizing lookup tables.</pre>"
      ],
      "text/plain": [
       "Finalizing lookup tables."
      ]
     },
     "metadata": {},
     "output_type": "display_data"
    },
    {
     "data": {
      "text/html": [
       "<pre>Generating candidate set for working with new users.</pre>"
      ],
      "text/plain": [
       "Generating candidate set for working with new users."
      ]
     },
     "metadata": {},
     "output_type": "display_data"
    },
    {
     "data": {
      "text/html": [
       "<pre>Finished training in 0.018234s</pre>"
      ],
      "text/plain": [
       "Finished training in 0.018234s"
      ]
     },
     "metadata": {},
     "output_type": "display_data"
    },
    {
     "data": {
      "text/html": [
       "<pre>recommendations finished on 1000/1000 queries. users per second: 119417</pre>"
      ],
      "text/plain": [
       "recommendations finished on 1000/1000 queries. users per second: 119417"
      ]
     },
     "metadata": {},
     "output_type": "display_data"
    }
   ],
   "source": [
    "popularity_model = model(train_data, name, user_id, item_id, target, users_to_recommend, n_rec, n_display)"
   ]
  },
  {
   "cell_type": "markdown",
   "metadata": {},
   "source": [
    "## Colaborate filtering"
   ]
  },
  {
   "cell_type": "code",
   "execution_count": 68,
   "metadata": {},
   "outputs": [
    {
     "data": {
      "text/html": [
       "<pre>Preparing data set.</pre>"
      ],
      "text/plain": [
       "Preparing data set."
      ]
     },
     "metadata": {},
     "output_type": "display_data"
    },
    {
     "data": {
      "text/html": [
       "<pre>    Data has 106868 observations with 23335 users and 300 items.</pre>"
      ],
      "text/plain": [
       "    Data has 106868 observations with 23335 users and 300 items."
      ]
     },
     "metadata": {},
     "output_type": "display_data"
    },
    {
     "data": {
      "text/html": [
       "<pre>    Data prepared in: 0.104193s</pre>"
      ],
      "text/plain": [
       "    Data prepared in: 0.104193s"
      ]
     },
     "metadata": {},
     "output_type": "display_data"
    },
    {
     "data": {
      "text/html": [
       "<pre>Training model from provided data.</pre>"
      ],
      "text/plain": [
       "Training model from provided data."
      ]
     },
     "metadata": {},
     "output_type": "display_data"
    },
    {
     "data": {
      "text/html": [
       "<pre>Gathering per-item and per-user statistics.</pre>"
      ],
      "text/plain": [
       "Gathering per-item and per-user statistics."
      ]
     },
     "metadata": {},
     "output_type": "display_data"
    },
    {
     "data": {
      "text/html": [
       "<pre>+--------------------------------+------------+</pre>"
      ],
      "text/plain": [
       "+--------------------------------+------------+"
      ]
     },
     "metadata": {},
     "output_type": "display_data"
    },
    {
     "data": {
      "text/html": [
       "<pre>| Elapsed Time (Item Statistics) | % Complete |</pre>"
      ],
      "text/plain": [
       "| Elapsed Time (Item Statistics) | % Complete |"
      ]
     },
     "metadata": {},
     "output_type": "display_data"
    },
    {
     "data": {
      "text/html": [
       "<pre>+--------------------------------+------------+</pre>"
      ],
      "text/plain": [
       "+--------------------------------+------------+"
      ]
     },
     "metadata": {},
     "output_type": "display_data"
    },
    {
     "data": {
      "text/html": [
       "<pre>| 558us                          | 4.25       |</pre>"
      ],
      "text/plain": [
       "| 558us                          | 4.25       |"
      ]
     },
     "metadata": {},
     "output_type": "display_data"
    },
    {
     "data": {
      "text/html": [
       "<pre>| 3.104ms                        | 100        |</pre>"
      ],
      "text/plain": [
       "| 3.104ms                        | 100        |"
      ]
     },
     "metadata": {},
     "output_type": "display_data"
    },
    {
     "data": {
      "text/html": [
       "<pre>+--------------------------------+------------+</pre>"
      ],
      "text/plain": [
       "+--------------------------------+------------+"
      ]
     },
     "metadata": {},
     "output_type": "display_data"
    },
    {
     "data": {
      "text/html": [
       "<pre>Setting up lookup tables.</pre>"
      ],
      "text/plain": [
       "Setting up lookup tables."
      ]
     },
     "metadata": {},
     "output_type": "display_data"
    },
    {
     "data": {
      "text/html": [
       "<pre>Processing data in one pass using dense lookup tables.</pre>"
      ],
      "text/plain": [
       "Processing data in one pass using dense lookup tables."
      ]
     },
     "metadata": {},
     "output_type": "display_data"
    },
    {
     "data": {
      "text/html": [
       "<pre>+-------------------------------------+------------------+-----------------+</pre>"
      ],
      "text/plain": [
       "+-------------------------------------+------------------+-----------------+"
      ]
     },
     "metadata": {},
     "output_type": "display_data"
    },
    {
     "data": {
      "text/html": [
       "<pre>| Elapsed Time (Constructing Lookups) | Total % Complete | Items Processed |</pre>"
      ],
      "text/plain": [
       "| Elapsed Time (Constructing Lookups) | Total % Complete | Items Processed |"
      ]
     },
     "metadata": {},
     "output_type": "display_data"
    },
    {
     "data": {
      "text/html": [
       "<pre>+-------------------------------------+------------------+-----------------+</pre>"
      ],
      "text/plain": [
       "+-------------------------------------+------------------+-----------------+"
      ]
     },
     "metadata": {},
     "output_type": "display_data"
    },
    {
     "name": "stdout",
     "output_type": "stream",
     "text": [
      "+------------+-----------+----------------------+------+\n",
      "| customerId | productId |        score         | rank |\n",
      "+------------+-----------+----------------------+------+\n",
      "|    1553    |     2     | 0.12802904844284058  |  1   |\n",
      "|    1553    |     1     | 0.07729625701904297  |  2   |\n",
      "|    1553    |     5     | 0.07147923111915588  |  3   |\n",
      "|    1553    |     17    | 0.06917351484298706  |  4   |\n",
      "|    1553    |     33    | 0.06127279996871948  |  5   |\n",
      "|    1553    |     61    | 0.059559136629104614 |  6   |\n",
      "|    1553    |     47    | 0.05598253011703491  |  7   |\n",
      "|    1553    |     8     | 0.05152064561843872  |  8   |\n",
      "|    1553    |     41    | 0.049761444330215454 |  9   |\n",
      "|    1553    |    233    | 0.04658660292625427  |  10  |\n",
      "|   20400    |    280    | 0.09378987550735474  |  1   |\n",
      "|   20400    |    122    | 0.04982936382293701  |  2   |\n",
      "|   20400    |     1     | 0.040702879428863525 |  3   |\n",
      "|   20400    |     31    |  0.0369907021522522  |  4   |\n",
      "|   20400    |    265    | 0.03683817386627197  |  5   |\n",
      "|   20400    |     6     | 0.03594505786895752  |  6   |\n",
      "|   20400    |    284    | 0.035813093185424805 |  7   |\n",
      "|   20400    |    179    | 0.034983158111572266 |  8   |\n",
      "|   20400    |     9     | 0.03430289030075073  |  9   |\n",
      "|   20400    |     56    | 0.034264326095581055 |  10  |\n",
      "|   19750    |     38    | 0.09095778067906697  |  1   |\n",
      "|   19750    |     2     | 0.08451520403226216  |  2   |\n",
      "|   19750    |     1     | 0.07787296175956726  |  3   |\n",
      "|   19750    |     79    | 0.07655501365661621  |  4   |\n",
      "|   19750    |     36    | 0.07558742165565491  |  5   |\n",
      "|   19750    |     48    | 0.07360272606213887  |  6   |\n",
      "|   19750    |     5     | 0.05922392010688782  |  7   |\n",
      "|   19750    |     14    | 0.05573880672454834  |  8   |\n",
      "|   19750    |     33    | 0.05524444580078125  |  9   |\n",
      "|   19750    |    194    | 0.050853073596954346 |  10  |\n",
      "+------------+-----------+----------------------+------+\n",
      "[10000 rows x 4 columns]\n",
      "\n"
     ]
    },
    {
     "data": {
      "text/html": [
       "<pre>| 4.011ms                             | 0                | 0               |</pre>"
      ],
      "text/plain": [
       "| 4.011ms                             | 0                | 0               |"
      ]
     },
     "metadata": {},
     "output_type": "display_data"
    },
    {
     "data": {
      "text/html": [
       "<pre>| 8.844ms                             | 100              | 300             |</pre>"
      ],
      "text/plain": [
       "| 8.844ms                             | 100              | 300             |"
      ]
     },
     "metadata": {},
     "output_type": "display_data"
    },
    {
     "data": {
      "text/html": [
       "<pre>+-------------------------------------+------------------+-----------------+</pre>"
      ],
      "text/plain": [
       "+-------------------------------------+------------------+-----------------+"
      ]
     },
     "metadata": {},
     "output_type": "display_data"
    },
    {
     "data": {
      "text/html": [
       "<pre>Finalizing lookup tables.</pre>"
      ],
      "text/plain": [
       "Finalizing lookup tables."
      ]
     },
     "metadata": {},
     "output_type": "display_data"
    },
    {
     "data": {
      "text/html": [
       "<pre>Generating candidate set for working with new users.</pre>"
      ],
      "text/plain": [
       "Generating candidate set for working with new users."
      ]
     },
     "metadata": {},
     "output_type": "display_data"
    },
    {
     "data": {
      "text/html": [
       "<pre>Finished training in 0.024468s</pre>"
      ],
      "text/plain": [
       "Finished training in 0.024468s"
      ]
     },
     "metadata": {},
     "output_type": "display_data"
    },
    {
     "data": {
      "text/html": [
       "<pre>recommendations finished on 1000/1000 queries. users per second: 195274</pre>"
      ],
      "text/plain": [
       "recommendations finished on 1000/1000 queries. users per second: 195274"
      ]
     },
     "metadata": {},
     "output_type": "display_data"
    }
   ],
   "source": [
    "name = 'cosine'\n",
    "target = 'purchase_count'\n",
    "cos = model(train_data, name, user_id, item_id, target, users_to_recommend, n_rec, n_display)"
   ]
  },
  {
   "cell_type": "markdown",
   "metadata": {},
   "source": [
    "## Pearson similarity of Collaborative filtering"
   ]
  },
  {
   "cell_type": "code",
   "execution_count": 69,
   "metadata": {},
   "outputs": [
    {
     "data": {
      "text/html": [
       "<pre>Preparing data set.</pre>"
      ],
      "text/plain": [
       "Preparing data set."
      ]
     },
     "metadata": {},
     "output_type": "display_data"
    },
    {
     "data": {
      "text/html": [
       "<pre>    Data has 106868 observations with 23335 users and 300 items.</pre>"
      ],
      "text/plain": [
       "    Data has 106868 observations with 23335 users and 300 items."
      ]
     },
     "metadata": {},
     "output_type": "display_data"
    },
    {
     "data": {
      "text/html": [
       "<pre>    Data prepared in: 0.103618s</pre>"
      ],
      "text/plain": [
       "    Data prepared in: 0.103618s"
      ]
     },
     "metadata": {},
     "output_type": "display_data"
    },
    {
     "data": {
      "text/html": [
       "<pre>Training model from provided data.</pre>"
      ],
      "text/plain": [
       "Training model from provided data."
      ]
     },
     "metadata": {},
     "output_type": "display_data"
    },
    {
     "data": {
      "text/html": [
       "<pre>Gathering per-item and per-user statistics.</pre>"
      ],
      "text/plain": [
       "Gathering per-item and per-user statistics."
      ]
     },
     "metadata": {},
     "output_type": "display_data"
    },
    {
     "data": {
      "text/html": [
       "<pre>+--------------------------------+------------+</pre>"
      ],
      "text/plain": [
       "+--------------------------------+------------+"
      ]
     },
     "metadata": {},
     "output_type": "display_data"
    },
    {
     "data": {
      "text/html": [
       "<pre>| Elapsed Time (Item Statistics) | % Complete |</pre>"
      ],
      "text/plain": [
       "| Elapsed Time (Item Statistics) | % Complete |"
      ]
     },
     "metadata": {},
     "output_type": "display_data"
    },
    {
     "data": {
      "text/html": [
       "<pre>+--------------------------------+------------+</pre>"
      ],
      "text/plain": [
       "+--------------------------------+------------+"
      ]
     },
     "metadata": {},
     "output_type": "display_data"
    },
    {
     "data": {
      "text/html": [
       "<pre>| 667us                          | 4.25       |</pre>"
      ],
      "text/plain": [
       "| 667us                          | 4.25       |"
      ]
     },
     "metadata": {},
     "output_type": "display_data"
    },
    {
     "data": {
      "text/html": [
       "<pre>| 4.252ms                        | 100        |</pre>"
      ],
      "text/plain": [
       "| 4.252ms                        | 100        |"
      ]
     },
     "metadata": {},
     "output_type": "display_data"
    },
    {
     "data": {
      "text/html": [
       "<pre>+--------------------------------+------------+</pre>"
      ],
      "text/plain": [
       "+--------------------------------+------------+"
      ]
     },
     "metadata": {},
     "output_type": "display_data"
    },
    {
     "data": {
      "text/html": [
       "<pre>Setting up lookup tables.</pre>"
      ],
      "text/plain": [
       "Setting up lookup tables."
      ]
     },
     "metadata": {},
     "output_type": "display_data"
    },
    {
     "data": {
      "text/html": [
       "<pre>Processing data in one pass using dense lookup tables.</pre>"
      ],
      "text/plain": [
       "Processing data in one pass using dense lookup tables."
      ]
     },
     "metadata": {},
     "output_type": "display_data"
    },
    {
     "data": {
      "text/html": [
       "<pre>+-------------------------------------+------------------+-----------------+</pre>"
      ],
      "text/plain": [
       "+-------------------------------------+------------------+-----------------+"
      ]
     },
     "metadata": {},
     "output_type": "display_data"
    },
    {
     "data": {
      "text/html": [
       "<pre>| Elapsed Time (Constructing Lookups) | Total % Complete | Items Processed |</pre>"
      ],
      "text/plain": [
       "| Elapsed Time (Constructing Lookups) | Total % Complete | Items Processed |"
      ]
     },
     "metadata": {},
     "output_type": "display_data"
    },
    {
     "name": "stdout",
     "output_type": "stream",
     "text": [
      "+------------+-----------+--------------------+------+\n",
      "| customerId | productId |       score        | rank |\n",
      "+------------+-----------+--------------------+------+\n",
      "|    1553    |    132    | 3.1320754716981143 |  1   |\n",
      "|    1553    |     37    | 3.0268697870059262 |  2   |\n",
      "|    1553    |     0     | 2.9953130107958246 |  3   |\n",
      "|    1553    |     34    | 2.986596293521648  |  4   |\n",
      "|    1553    |    248    | 2.975678246021271  |  5   |\n",
      "|    1553    |     3     | 2.888655462184876  |  6   |\n",
      "|    1553    |     27    | 2.7462686567164187 |  7   |\n",
      "|    1553    |    230    | 2.6635401145856186 |  8   |\n",
      "|    1553    |    110    | 2.6436781609195386 |  9   |\n",
      "|    1553    |     10    | 2.642642642642643  |  10  |\n",
      "|   20400    |    132    | 3.1320754716981143 |  1   |\n",
      "|   20400    |     37    | 3.027559055118109  |  2   |\n",
      "|   20400    |     34    | 3.0075757575757556 |  3   |\n",
      "|   20400    |     0     | 2.9972742122251916 |  4   |\n",
      "|   20400    |    248    | 2.9800000000000004 |  5   |\n",
      "|   20400    |     3     | 2.8872124933395087 |  6   |\n",
      "|   20400    |     27    |  2.74321916388042  |  7   |\n",
      "|   20400    |    230    | 2.6691729323308273 |  8   |\n",
      "|   20400    |    110    | 2.6436781609195386 |  9   |\n",
      "|   20400    |     10    | 2.642642642642643  |  10  |\n",
      "|   19750    |    132    | 3.129375440894434  |  1   |\n",
      "|   19750    |     37    | 3.025439255663102  |  2   |\n",
      "|   19750    |     34    | 3.0035573515025034 |  3   |\n",
      "|   19750    |     0     | 2.998539807581815  |  4   |\n",
      "|   19750    |    248    | 2.9792956519126896 |  5   |\n",
      "|   19750    |     3     | 2.887041169722209  |  6   |\n",
      "|   19750    |     27    | 2.7462686567164187 |  7   |\n",
      "|   19750    |    230    | 2.6691729323308273 |  8   |\n",
      "|   19750    |     10    | 2.642642642642643  |  9   |\n",
      "|   19750    |    110    | 2.6398972793557163 |  10  |\n",
      "+------------+-----------+--------------------+------+\n",
      "[10000 rows x 4 columns]\n",
      "\n"
     ]
    },
    {
     "data": {
      "text/html": [
       "<pre>+-------------------------------------+------------------+-----------------+</pre>"
      ],
      "text/plain": [
       "+-------------------------------------+------------------+-----------------+"
      ]
     },
     "metadata": {},
     "output_type": "display_data"
    },
    {
     "data": {
      "text/html": [
       "<pre>| 4.93ms                              | 0                | 0               |</pre>"
      ],
      "text/plain": [
       "| 4.93ms                              | 0                | 0               |"
      ]
     },
     "metadata": {},
     "output_type": "display_data"
    },
    {
     "data": {
      "text/html": [
       "<pre>| 13.95ms                             | 100              | 300             |</pre>"
      ],
      "text/plain": [
       "| 13.95ms                             | 100              | 300             |"
      ]
     },
     "metadata": {},
     "output_type": "display_data"
    },
    {
     "data": {
      "text/html": [
       "<pre>+-------------------------------------+------------------+-----------------+</pre>"
      ],
      "text/plain": [
       "+-------------------------------------+------------------+-----------------+"
      ]
     },
     "metadata": {},
     "output_type": "display_data"
    },
    {
     "data": {
      "text/html": [
       "<pre>Finalizing lookup tables.</pre>"
      ],
      "text/plain": [
       "Finalizing lookup tables."
      ]
     },
     "metadata": {},
     "output_type": "display_data"
    },
    {
     "data": {
      "text/html": [
       "<pre>Generating candidate set for working with new users.</pre>"
      ],
      "text/plain": [
       "Generating candidate set for working with new users."
      ]
     },
     "metadata": {},
     "output_type": "display_data"
    },
    {
     "data": {
      "text/html": [
       "<pre>Finished training in 0.022599s</pre>"
      ],
      "text/plain": [
       "Finished training in 0.022599s"
      ]
     },
     "metadata": {},
     "output_type": "display_data"
    },
    {
     "data": {
      "text/html": [
       "<pre>recommendations finished on 1000/1000 queries. users per second: 148699</pre>"
      ],
      "text/plain": [
       "recommendations finished on 1000/1000 queries. users per second: 148699"
      ]
     },
     "metadata": {},
     "output_type": "display_data"
    }
   ],
   "source": [
    "name = 'pearson'\n",
    "target = 'purchase_count'\n",
    "pear = model(train_data, name, user_id, item_id, target, users_to_recommend, n_rec, n_display)"
   ]
  },
  {
   "cell_type": "markdown",
   "metadata": {},
   "source": [
    "## Model Evaluation"
   ]
  },
  {
   "cell_type": "markdown",
   "metadata": {},
   "source": [
    "#### i. RMSE (Root Mean Squared Errors)\n",
    "-- Measures the error of predicted values\n",
    "-- Lesser the RMSE value, better the recommendations\n",
    "\n",
    "#### ii. Recall\n",
    "-- What percentage of products that a user buys are actually recommended?\n",
    "-- If a customer buys 5 products and the recommendation decided to show 3 of them, then the recall is 0.6\n",
    "\n",
    "#### iii. Precision\n",
    "-- Out of all the recommended items, how many the user actually liked?\n",
    "-- If 5 products were recommended to the customer out of which he buys 4 of them, then precision is 0.8"
   ]
  },
  {
   "cell_type": "markdown",
   "metadata": {},
   "source": [
    "### So our aim has to be optimizing both recall and precision (to be close to 1 as possible)."
   ]
  },
  {
   "cell_type": "code",
   "execution_count": 70,
   "metadata": {},
   "outputs": [],
   "source": [
    "models_w_counts = [popularity_model, cos, pear]\n",
    "names_w_counts = ['Popularity Model on Purchase Counts', 'Cosine Similarity on Purchase Counts', 'Pearson Similarity on Purchase Counts']"
   ]
  },
  {
   "cell_type": "markdown",
   "metadata": {},
   "source": [
    "Lets compare all the models we have built based on RMSE and precision-recall characteristics:"
   ]
  },
  {
   "cell_type": "code",
   "execution_count": 71,
   "metadata": {},
   "outputs": [
    {
     "name": "stdout",
     "output_type": "stream",
     "text": [
      "PROGRESS: Evaluate model Popularity Model on Purchase Counts\n"
     ]
    },
    {
     "data": {
      "text/html": [
       "<pre>recommendations finished on 1000/13856 queries. users per second: 165865</pre>"
      ],
      "text/plain": [
       "recommendations finished on 1000/13856 queries. users per second: 165865"
      ]
     },
     "metadata": {},
     "output_type": "display_data"
    },
    {
     "data": {
      "text/html": [
       "<pre>recommendations finished on 2000/13856 queries. users per second: 194571</pre>"
      ],
      "text/plain": [
       "recommendations finished on 2000/13856 queries. users per second: 194571"
      ]
     },
     "metadata": {},
     "output_type": "display_data"
    },
    {
     "data": {
      "text/html": [
       "<pre>recommendations finished on 3000/13856 queries. users per second: 194793</pre>"
      ],
      "text/plain": [
       "recommendations finished on 3000/13856 queries. users per second: 194793"
      ]
     },
     "metadata": {},
     "output_type": "display_data"
    },
    {
     "data": {
      "text/html": [
       "<pre>recommendations finished on 4000/13856 queries. users per second: 200361</pre>"
      ],
      "text/plain": [
       "recommendations finished on 4000/13856 queries. users per second: 200361"
      ]
     },
     "metadata": {},
     "output_type": "display_data"
    },
    {
     "data": {
      "text/html": [
       "<pre>recommendations finished on 5000/13856 queries. users per second: 201483</pre>"
      ],
      "text/plain": [
       "recommendations finished on 5000/13856 queries. users per second: 201483"
      ]
     },
     "metadata": {},
     "output_type": "display_data"
    },
    {
     "data": {
      "text/html": [
       "<pre>recommendations finished on 6000/13856 queries. users per second: 206299</pre>"
      ],
      "text/plain": [
       "recommendations finished on 6000/13856 queries. users per second: 206299"
      ]
     },
     "metadata": {},
     "output_type": "display_data"
    },
    {
     "data": {
      "text/html": [
       "<pre>recommendations finished on 7000/13856 queries. users per second: 208104</pre>"
      ],
      "text/plain": [
       "recommendations finished on 7000/13856 queries. users per second: 208104"
      ]
     },
     "metadata": {},
     "output_type": "display_data"
    },
    {
     "data": {
      "text/html": [
       "<pre>recommendations finished on 8000/13856 queries. users per second: 211227</pre>"
      ],
      "text/plain": [
       "recommendations finished on 8000/13856 queries. users per second: 211227"
      ]
     },
     "metadata": {},
     "output_type": "display_data"
    },
    {
     "data": {
      "text/html": [
       "<pre>recommendations finished on 9000/13856 queries. users per second: 200249</pre>"
      ],
      "text/plain": [
       "recommendations finished on 9000/13856 queries. users per second: 200249"
      ]
     },
     "metadata": {},
     "output_type": "display_data"
    },
    {
     "data": {
      "text/html": [
       "<pre>recommendations finished on 10000/13856 queries. users per second: 195994</pre>"
      ],
      "text/plain": [
       "recommendations finished on 10000/13856 queries. users per second: 195994"
      ]
     },
     "metadata": {},
     "output_type": "display_data"
    },
    {
     "data": {
      "text/html": [
       "<pre>recommendations finished on 11000/13856 queries. users per second: 197426</pre>"
      ],
      "text/plain": [
       "recommendations finished on 11000/13856 queries. users per second: 197426"
      ]
     },
     "metadata": {},
     "output_type": "display_data"
    },
    {
     "data": {
      "text/html": [
       "<pre>recommendations finished on 12000/13856 queries. users per second: 198597</pre>"
      ],
      "text/plain": [
       "recommendations finished on 12000/13856 queries. users per second: 198597"
      ]
     },
     "metadata": {},
     "output_type": "display_data"
    },
    {
     "data": {
      "text/html": [
       "<pre>recommendations finished on 13000/13856 queries. users per second: 199429</pre>"
      ],
      "text/plain": [
       "recommendations finished on 13000/13856 queries. users per second: 199429"
      ]
     },
     "metadata": {},
     "output_type": "display_data"
    },
    {
     "name": "stdout",
     "output_type": "stream",
     "text": [
      "\n",
      "Precision and recall summary statistics by cutoff\n",
      "+--------+-----------------------+-----------------------+\n",
      "| cutoff |     mean_precision    |      mean_recall      |\n",
      "+--------+-----------------------+-----------------------+\n",
      "|   1    | 0.0013712471131639716 | 0.0008371824480369517 |\n",
      "|   2    |  0.00339203233256351  | 0.0035378013230568076 |\n",
      "|   3    |  0.004041570438799063 |  0.006460541766365961 |\n",
      "|   4    |  0.00737947459584296  |  0.01626057783160041  |\n",
      "|   5    |  0.006177829099307202 |  0.017015708838968687 |\n",
      "|   6    |  0.006507409545804493 |  0.021129424142782117 |\n",
      "|   7    |  0.005887083470801723 |  0.02230220127904079  |\n",
      "|   8    |  0.005566180715935327 |  0.02444835002594008  |\n",
      "|   9    |  0.005396779574031374 |  0.026756100493332585 |\n",
      "|   10   |  0.00530456120092379  |  0.02948424645726087  |\n",
      "+--------+-----------------------+-----------------------+\n",
      "[10 rows x 3 columns]\n",
      "\n",
      "\n",
      "Overall RMSE: 1.0369712951742305\n",
      "\n",
      "Per User RMSE (best)\n",
      "+------------+-----------------------+-------+\n",
      "| customerId |          rmse         | count |\n",
      "+------------+-----------------------+-------+\n",
      "|    7588    | 4.440892098500626e-15 |   1   |\n",
      "+------------+-----------------------+-------+\n",
      "[1 rows x 3 columns]\n",
      "\n",
      "\n",
      "Per User RMSE (worst)\n",
      "+------------+--------------------+-------+\n",
      "| customerId |        rmse        | count |\n",
      "+------------+--------------------+-------+\n",
      "|    767     | 20.689024390243905 |   1   |\n",
      "+------------+--------------------+-------+\n",
      "[1 rows x 3 columns]\n",
      "\n",
      "\n",
      "Per Item RMSE (best)\n",
      "+-----------+---------------------+-------+\n",
      "| productId |         rmse        | count |\n",
      "+-----------+---------------------+-------+\n",
      "|    166    | 0.22925496873020715 |   91  |\n",
      "+-----------+---------------------+-------+\n",
      "[1 rows x 3 columns]\n",
      "\n",
      "\n",
      "Per Item RMSE (worst)\n",
      "+-----------+-------------------+-------+\n",
      "| productId |        rmse       | count |\n",
      "+-----------+-------------------+-------+\n",
      "|    245    | 5.040362414013387 |   16  |\n",
      "+-----------+-------------------+-------+\n",
      "[1 rows x 3 columns]\n",
      "\n",
      "PROGRESS: Evaluate model Cosine Similarity on Purchase Counts\n"
     ]
    },
    {
     "data": {
      "text/html": [
       "<pre>recommendations finished on 1000/13856 queries. users per second: 122534</pre>"
      ],
      "text/plain": [
       "recommendations finished on 1000/13856 queries. users per second: 122534"
      ]
     },
     "metadata": {},
     "output_type": "display_data"
    },
    {
     "data": {
      "text/html": [
       "<pre>recommendations finished on 2000/13856 queries. users per second: 166583</pre>"
      ],
      "text/plain": [
       "recommendations finished on 2000/13856 queries. users per second: 166583"
      ]
     },
     "metadata": {},
     "output_type": "display_data"
    },
    {
     "data": {
      "text/html": [
       "<pre>recommendations finished on 3000/13856 queries. users per second: 184015</pre>"
      ],
      "text/plain": [
       "recommendations finished on 3000/13856 queries. users per second: 184015"
      ]
     },
     "metadata": {},
     "output_type": "display_data"
    },
    {
     "data": {
      "text/html": [
       "<pre>recommendations finished on 4000/13856 queries. users per second: 195103</pre>"
      ],
      "text/plain": [
       "recommendations finished on 4000/13856 queries. users per second: 195103"
      ]
     },
     "metadata": {},
     "output_type": "display_data"
    },
    {
     "data": {
      "text/html": [
       "<pre>recommendations finished on 5000/13856 queries. users per second: 204048</pre>"
      ],
      "text/plain": [
       "recommendations finished on 5000/13856 queries. users per second: 204048"
      ]
     },
     "metadata": {},
     "output_type": "display_data"
    },
    {
     "data": {
      "text/html": [
       "<pre>recommendations finished on 6000/13856 queries. users per second: 213424</pre>"
      ],
      "text/plain": [
       "recommendations finished on 6000/13856 queries. users per second: 213424"
      ]
     },
     "metadata": {},
     "output_type": "display_data"
    },
    {
     "data": {
      "text/html": [
       "<pre>recommendations finished on 7000/13856 queries. users per second: 208228</pre>"
      ],
      "text/plain": [
       "recommendations finished on 7000/13856 queries. users per second: 208228"
      ]
     },
     "metadata": {},
     "output_type": "display_data"
    },
    {
     "data": {
      "text/html": [
       "<pre>recommendations finished on 8000/13856 queries. users per second: 212472</pre>"
      ],
      "text/plain": [
       "recommendations finished on 8000/13856 queries. users per second: 212472"
      ]
     },
     "metadata": {},
     "output_type": "display_data"
    },
    {
     "data": {
      "text/html": [
       "<pre>recommendations finished on 9000/13856 queries. users per second: 210443</pre>"
      ],
      "text/plain": [
       "recommendations finished on 9000/13856 queries. users per second: 210443"
      ]
     },
     "metadata": {},
     "output_type": "display_data"
    },
    {
     "data": {
      "text/html": [
       "<pre>recommendations finished on 10000/13856 queries. users per second: 213611</pre>"
      ],
      "text/plain": [
       "recommendations finished on 10000/13856 queries. users per second: 213611"
      ]
     },
     "metadata": {},
     "output_type": "display_data"
    },
    {
     "data": {
      "text/html": [
       "<pre>recommendations finished on 11000/13856 queries. users per second: 217018</pre>"
      ],
      "text/plain": [
       "recommendations finished on 11000/13856 queries. users per second: 217018"
      ]
     },
     "metadata": {},
     "output_type": "display_data"
    },
    {
     "data": {
      "text/html": [
       "<pre>recommendations finished on 12000/13856 queries. users per second: 218472</pre>"
      ],
      "text/plain": [
       "recommendations finished on 12000/13856 queries. users per second: 218472"
      ]
     },
     "metadata": {},
     "output_type": "display_data"
    },
    {
     "data": {
      "text/html": [
       "<pre>recommendations finished on 13000/13856 queries. users per second: 220691</pre>"
      ],
      "text/plain": [
       "recommendations finished on 13000/13856 queries. users per second: 220691"
      ]
     },
     "metadata": {},
     "output_type": "display_data"
    },
    {
     "name": "stdout",
     "output_type": "stream",
     "text": [
      "\n",
      "Precision and recall summary statistics by cutoff\n",
      "+--------+----------------------+---------------------+\n",
      "| cutoff |    mean_precision    |     mean_recall     |\n",
      "+--------+----------------------+---------------------+\n",
      "|   1    | 0.11670034642032333  | 0.06809790693527619 |\n",
      "|   2    | 0.09425519630484988  | 0.10792096530954597 |\n",
      "|   3    | 0.07909930715935329  | 0.13423637464715402 |\n",
      "|   4    |  0.0694644919168593  | 0.15586842002324514 |\n",
      "|   5    | 0.062312355658198655 | 0.17292322426121956 |\n",
      "|   6    | 0.05643764434180127  | 0.18692194011621346 |\n",
      "|   7    | 0.05194242824150488  | 0.20013130821155176 |\n",
      "|   8    |  0.0480928839491917  | 0.21123092263070914 |\n",
      "|   9    | 0.04496247113163932  | 0.22120120880516705 |\n",
      "|   10   | 0.042407621247113114 | 0.23100280730209594 |\n",
      "+--------+----------------------+---------------------+\n",
      "[10 rows x 3 columns]\n",
      "\n",
      "\n",
      "Overall RMSE: 1.8819845023017845\n",
      "\n",
      "Per User RMSE (best)\n",
      "+------------+---------------------+-------+\n",
      "| customerId |         rmse        | count |\n",
      "+------------+---------------------+-------+\n",
      "|   27392    | 0.06959402561187744 |   1   |\n",
      "+------------+---------------------+-------+\n",
      "[1 rows x 3 columns]\n",
      "\n",
      "\n",
      "Per User RMSE (worst)\n",
      "+------------+--------------------+-------+\n",
      "| customerId |        rmse        | count |\n",
      "+------------+--------------------+-------+\n",
      "|    767     | 22.932373185952503 |   1   |\n",
      "+------------+--------------------+-------+\n",
      "[1 rows x 3 columns]\n",
      "\n",
      "\n",
      "Per Item RMSE (best)\n",
      "+-----------+--------------------+-------+\n",
      "| productId |        rmse        | count |\n",
      "+-----------+--------------------+-------+\n",
      "|    166    | 1.0414995005751713 |   91  |\n",
      "+-----------+--------------------+-------+\n",
      "[1 rows x 3 columns]\n",
      "\n",
      "\n",
      "Per Item RMSE (worst)\n",
      "+-----------+-------------------+-------+\n",
      "| productId |        rmse       | count |\n",
      "+-----------+-------------------+-------+\n",
      "|    245    | 5.998283077257249 |   16  |\n",
      "+-----------+-------------------+-------+\n",
      "[1 rows x 3 columns]\n",
      "\n",
      "PROGRESS: Evaluate model Pearson Similarity on Purchase Counts\n"
     ]
    },
    {
     "data": {
      "text/html": [
       "<pre>recommendations finished on 1000/13856 queries. users per second: 152161</pre>"
      ],
      "text/plain": [
       "recommendations finished on 1000/13856 queries. users per second: 152161"
      ]
     },
     "metadata": {},
     "output_type": "display_data"
    },
    {
     "data": {
      "text/html": [
       "<pre>recommendations finished on 2000/13856 queries. users per second: 179711</pre>"
      ],
      "text/plain": [
       "recommendations finished on 2000/13856 queries. users per second: 179711"
      ]
     },
     "metadata": {},
     "output_type": "display_data"
    },
    {
     "data": {
      "text/html": [
       "<pre>recommendations finished on 3000/13856 queries. users per second: 186986</pre>"
      ],
      "text/plain": [
       "recommendations finished on 3000/13856 queries. users per second: 186986"
      ]
     },
     "metadata": {},
     "output_type": "display_data"
    },
    {
     "data": {
      "text/html": [
       "<pre>recommendations finished on 4000/13856 queries. users per second: 191727</pre>"
      ],
      "text/plain": [
       "recommendations finished on 4000/13856 queries. users per second: 191727"
      ]
     },
     "metadata": {},
     "output_type": "display_data"
    },
    {
     "data": {
      "text/html": [
       "<pre>recommendations finished on 5000/13856 queries. users per second: 190324</pre>"
      ],
      "text/plain": [
       "recommendations finished on 5000/13856 queries. users per second: 190324"
      ]
     },
     "metadata": {},
     "output_type": "display_data"
    },
    {
     "data": {
      "text/html": [
       "<pre>recommendations finished on 6000/13856 queries. users per second: 196335</pre>"
      ],
      "text/plain": [
       "recommendations finished on 6000/13856 queries. users per second: 196335"
      ]
     },
     "metadata": {},
     "output_type": "display_data"
    },
    {
     "data": {
      "text/html": [
       "<pre>recommendations finished on 7000/13856 queries. users per second: 196701</pre>"
      ],
      "text/plain": [
       "recommendations finished on 7000/13856 queries. users per second: 196701"
      ]
     },
     "metadata": {},
     "output_type": "display_data"
    },
    {
     "data": {
      "text/html": [
       "<pre>recommendations finished on 8000/13856 queries. users per second: 197804</pre>"
      ],
      "text/plain": [
       "recommendations finished on 8000/13856 queries. users per second: 197804"
      ]
     },
     "metadata": {},
     "output_type": "display_data"
    },
    {
     "data": {
      "text/html": [
       "<pre>recommendations finished on 9000/13856 queries. users per second: 196584</pre>"
      ],
      "text/plain": [
       "recommendations finished on 9000/13856 queries. users per second: 196584"
      ]
     },
     "metadata": {},
     "output_type": "display_data"
    },
    {
     "data": {
      "text/html": [
       "<pre>recommendations finished on 10000/13856 queries. users per second: 194609</pre>"
      ],
      "text/plain": [
       "recommendations finished on 10000/13856 queries. users per second: 194609"
      ]
     },
     "metadata": {},
     "output_type": "display_data"
    },
    {
     "data": {
      "text/html": [
       "<pre>recommendations finished on 11000/13856 queries. users per second: 194103</pre>"
      ],
      "text/plain": [
       "recommendations finished on 11000/13856 queries. users per second: 194103"
      ]
     },
     "metadata": {},
     "output_type": "display_data"
    },
    {
     "data": {
      "text/html": [
       "<pre>recommendations finished on 12000/13856 queries. users per second: 194963</pre>"
      ],
      "text/plain": [
       "recommendations finished on 12000/13856 queries. users per second: 194963"
      ]
     },
     "metadata": {},
     "output_type": "display_data"
    },
    {
     "data": {
      "text/html": [
       "<pre>recommendations finished on 13000/13856 queries. users per second: 196514</pre>"
      ],
      "text/plain": [
       "recommendations finished on 13000/13856 queries. users per second: 196514"
      ]
     },
     "metadata": {},
     "output_type": "display_data"
    },
    {
     "name": "stdout",
     "output_type": "stream",
     "text": [
      "\n",
      "Precision and recall summary statistics by cutoff\n",
      "+--------+-----------------------+-----------------------+\n",
      "| cutoff |     mean_precision    |      mean_recall      |\n",
      "+--------+-----------------------+-----------------------+\n",
      "|   1    | 0.0013712471131639718 | 0.0008371824480369508 |\n",
      "|   2    |  0.00335594688221709  | 0.0034656304223639705 |\n",
      "|   3    |  0.004041570438799083 | 0.0064605417663659605 |\n",
      "|   4    |  0.007379474595842952 |  0.016260577831600346 |\n",
      "|   5    |  0.006177829099307199 |  0.017015708838968704 |\n",
      "|   6    |  0.006507409545804479 |  0.021129424142782086 |\n",
      "|   7    |  0.005887083470801724 |  0.022302201279040743 |\n",
      "|   8    |  0.005602266166281751 |  0.024580663343876936 |\n",
      "|   9    |  0.005404798562997241 |  0.026792185943679013 |\n",
      "|   10   | 0.0053045612009237995 |  0.029484246457260877 |\n",
      "+--------+-----------------------+-----------------------+\n",
      "[10 rows x 3 columns]\n",
      "\n",
      "\n",
      "Overall RMSE: 1.0369648458587792\n",
      "\n",
      "Per User RMSE (best)\n",
      "+------------+------------------------+-------+\n",
      "| customerId |          rmse          | count |\n",
      "+------------+------------------------+-------+\n",
      "|    7588    | 2.6645352591003757e-15 |   1   |\n",
      "+------------+------------------------+-------+\n",
      "[1 rows x 3 columns]\n",
      "\n",
      "\n",
      "Per User RMSE (worst)\n",
      "+------------+------------------+-------+\n",
      "| customerId |       rmse       | count |\n",
      "+------------+------------------+-------+\n",
      "|    767     | 20.6890243902439 |   1   |\n",
      "+------------+------------------+-------+\n",
      "[1 rows x 3 columns]\n",
      "\n",
      "\n",
      "Per Item RMSE (best)\n",
      "+-----------+---------------------+-------+\n",
      "| productId |         rmse        | count |\n",
      "+-----------+---------------------+-------+\n",
      "|    166    | 0.22925516953388062 |   91  |\n",
      "+-----------+---------------------+-------+\n",
      "[1 rows x 3 columns]\n",
      "\n",
      "\n",
      "Per Item RMSE (worst)\n",
      "+-----------+-------------------+-------+\n",
      "| productId |        rmse       | count |\n",
      "+-----------+-------------------+-------+\n",
      "|    245    | 5.040375800276627 |   16  |\n",
      "+-----------+-------------------+-------+\n",
      "[1 rows x 3 columns]\n",
      "\n"
     ]
    }
   ],
   "source": [
    "eval_counts = tc.recommender.util.compare_models(test_data, models_w_counts, model_names=names_w_counts)"
   ]
  },
  {
   "cell_type": "markdown",
   "metadata": {},
   "source": [
    "## Final Output"
   ]
  },
  {
   "cell_type": "code",
   "execution_count": 72,
   "metadata": {},
   "outputs": [
    {
     "data": {
      "text/html": [
       "<pre>Preparing data set.</pre>"
      ],
      "text/plain": [
       "Preparing data set."
      ]
     },
     "metadata": {},
     "output_type": "display_data"
    },
    {
     "data": {
      "text/html": [
       "<pre>    Data has 133585 observations with 24429 users and 300 items.</pre>"
      ],
      "text/plain": [
       "    Data has 133585 observations with 24429 users and 300 items."
      ]
     },
     "metadata": {},
     "output_type": "display_data"
    },
    {
     "data": {
      "text/html": [
       "<pre>    Data prepared in: 0.121831s</pre>"
      ],
      "text/plain": [
       "    Data prepared in: 0.121831s"
      ]
     },
     "metadata": {},
     "output_type": "display_data"
    },
    {
     "data": {
      "text/html": [
       "<pre>Training model from provided data.</pre>"
      ],
      "text/plain": [
       "Training model from provided data."
      ]
     },
     "metadata": {},
     "output_type": "display_data"
    },
    {
     "data": {
      "text/html": [
       "<pre>Gathering per-item and per-user statistics.</pre>"
      ],
      "text/plain": [
       "Gathering per-item and per-user statistics."
      ]
     },
     "metadata": {},
     "output_type": "display_data"
    },
    {
     "data": {
      "text/html": [
       "<pre>+--------------------------------+------------+</pre>"
      ],
      "text/plain": [
       "+--------------------------------+------------+"
      ]
     },
     "metadata": {},
     "output_type": "display_data"
    },
    {
     "data": {
      "text/html": [
       "<pre>| Elapsed Time (Item Statistics) | % Complete |</pre>"
      ],
      "text/plain": [
       "| Elapsed Time (Item Statistics) | % Complete |"
      ]
     },
     "metadata": {},
     "output_type": "display_data"
    },
    {
     "data": {
      "text/html": [
       "<pre>+--------------------------------+------------+</pre>"
      ],
      "text/plain": [
       "+--------------------------------+------------+"
      ]
     },
     "metadata": {},
     "output_type": "display_data"
    },
    {
     "data": {
      "text/html": [
       "<pre>| 780us                          | 4          |</pre>"
      ],
      "text/plain": [
       "| 780us                          | 4          |"
      ]
     },
     "metadata": {},
     "output_type": "display_data"
    },
    {
     "data": {
      "text/html": [
       "<pre>| 5.018ms                        | 100        |</pre>"
      ],
      "text/plain": [
       "| 5.018ms                        | 100        |"
      ]
     },
     "metadata": {},
     "output_type": "display_data"
    },
    {
     "data": {
      "text/html": [
       "<pre>+--------------------------------+------------+</pre>"
      ],
      "text/plain": [
       "+--------------------------------+------------+"
      ]
     },
     "metadata": {},
     "output_type": "display_data"
    },
    {
     "data": {
      "text/html": [
       "<pre>Setting up lookup tables.</pre>"
      ],
      "text/plain": [
       "Setting up lookup tables."
      ]
     },
     "metadata": {},
     "output_type": "display_data"
    },
    {
     "data": {
      "text/html": [
       "<pre>Processing data in one pass using dense lookup tables.</pre>"
      ],
      "text/plain": [
       "Processing data in one pass using dense lookup tables."
      ]
     },
     "metadata": {},
     "output_type": "display_data"
    },
    {
     "data": {
      "text/html": [
       "<pre>+-------------------------------------+------------------+-----------------+</pre>"
      ],
      "text/plain": [
       "+-------------------------------------+------------------+-----------------+"
      ]
     },
     "metadata": {},
     "output_type": "display_data"
    },
    {
     "data": {
      "text/html": [
       "<pre>| Elapsed Time (Constructing Lookups) | Total % Complete | Items Processed |</pre>"
      ],
      "text/plain": [
       "| Elapsed Time (Constructing Lookups) | Total % Complete | Items Processed |"
      ]
     },
     "metadata": {},
     "output_type": "display_data"
    },
    {
     "data": {
      "text/html": [
       "<pre>+-------------------------------------+------------------+-----------------+</pre>"
      ],
      "text/plain": [
       "+-------------------------------------+------------------+-----------------+"
      ]
     },
     "metadata": {},
     "output_type": "display_data"
    },
    {
     "data": {
      "text/html": [
       "<pre>| 5.728ms                             | 0                | 0               |</pre>"
      ],
      "text/plain": [
       "| 5.728ms                             | 0                | 0               |"
      ]
     },
     "metadata": {},
     "output_type": "display_data"
    },
    {
     "data": {
      "text/html": [
       "<pre>| 13.87ms                             | 100              | 300             |</pre>"
      ],
      "text/plain": [
       "| 13.87ms                             | 100              | 300             |"
      ]
     },
     "metadata": {},
     "output_type": "display_data"
    },
    {
     "data": {
      "text/html": [
       "<pre>+-------------------------------------+------------------+-----------------+</pre>"
      ],
      "text/plain": [
       "+-------------------------------------+------------------+-----------------+"
      ]
     },
     "metadata": {},
     "output_type": "display_data"
    },
    {
     "data": {
      "text/html": [
       "<pre>Finalizing lookup tables.</pre>"
      ],
      "text/plain": [
       "Finalizing lookup tables."
      ]
     },
     "metadata": {},
     "output_type": "display_data"
    },
    {
     "data": {
      "text/html": [
       "<pre>Generating candidate set for working with new users.</pre>"
      ],
      "text/plain": [
       "Generating candidate set for working with new users."
      ]
     },
     "metadata": {},
     "output_type": "display_data"
    },
    {
     "data": {
      "text/html": [
       "<pre>Finished training in 0.02834s</pre>"
      ],
      "text/plain": [
       "Finished training in 0.02834s"
      ]
     },
     "metadata": {},
     "output_type": "display_data"
    },
    {
     "data": {
      "text/html": [
       "<pre>recommendations finished on 1000/1000 queries. users per second: 75591.5</pre>"
      ],
      "text/plain": [
       "recommendations finished on 1000/1000 queries. users per second: 75591.5"
      ]
     },
     "metadata": {},
     "output_type": "display_data"
    },
    {
     "name": "stdout",
     "output_type": "stream",
     "text": [
      "+------------+-----------+----------------------+------+\n",
      "| customerId | productId |        score         | rank |\n",
      "+------------+-----------+----------------------+------+\n",
      "|    1553    |     2     | 0.14465173482894897  |  1   |\n",
      "|    1553    |     5     | 0.09291791915893555  |  2   |\n",
      "|    1553    |     1     | 0.09233839511871338  |  3   |\n",
      "|    1553    |     35    | 0.08991665840148926  |  4   |\n",
      "|    1553    |     17    | 0.07552688121795655  |  5   |\n",
      "|    1553    |     33    |  0.0724305510520935  |  6   |\n",
      "|    1553    |     61    | 0.06554533243179321  |  7   |\n",
      "|    1553    |     21    | 0.056928062438964845 |  8   |\n",
      "|    1553    |    167    |  0.0536272406578064  |  9   |\n",
      "|    1553    |     15    | 0.05270164012908936  |  10  |\n",
      "|   20400    |    280    | 0.07982701063156128  |  1   |\n",
      "|   20400    |     1     | 0.05004173517227173  |  2   |\n",
      "|   20400    |    122    | 0.04513084888458252  |  3   |\n",
      "|   20400    |     6     | 0.043053507804870605 |  4   |\n",
      "|   20400    |    160    | 0.04109323024749756  |  5   |\n",
      "|   20400    |     26    | 0.04062372446060181  |  6   |\n",
      "|   20400    |    182    | 0.039902329444885254 |  7   |\n",
      "|   20400    |     13    | 0.039568305015563965 |  8   |\n",
      "|   20400    |    246    | 0.038432419300079346 |  9   |\n",
      "|   20400    |     56    | 0.03803664445877075  |  10  |\n",
      "|   19750    |     38    | 0.11414493123690288  |  1   |\n",
      "|   19750    |     48    | 0.10556843876838684  |  2   |\n",
      "|   19750    |     2     |  0.1021167238553365  |  3   |\n",
      "|   19750    |     1     |  0.0960233708222707  |  4   |\n",
      "|   19750    |     36    | 0.09506609042485555  |  5   |\n",
      "|   19750    |     79    | 0.08407127857208252  |  6   |\n",
      "|   19750    |     21    | 0.07321765025456746  |  7   |\n",
      "|   19750    |     5     | 0.07132644454638164  |  8   |\n",
      "|   19750    |     33    | 0.062082529067993164 |  9   |\n",
      "|   19750    |     13    | 0.05663893620173136  |  10  |\n",
      "+------------+-----------+----------------------+------+\n",
      "[10000 rows x 4 columns]\n",
      "\n"
     ]
    }
   ],
   "source": [
    "final_model = tc.item_similarity_recommender.create(tc.SFrame(data), \n",
    "                                            user_id=user_id, \n",
    "                                            item_id=item_id, \n",
    "                                            target='purchase_count', similarity_type='cosine')\n",
    "recom = final_model.recommend(users=users_to_recommend, k=n_rec)\n",
    "recom.print_rows(n_display)"
   ]
  },
  {
   "cell_type": "markdown",
   "metadata": {},
   "source": [
    "## Output DataFrame"
   ]
  },
  {
   "cell_type": "code",
   "execution_count": 73,
   "metadata": {},
   "outputs": [
    {
     "name": "stdout",
     "output_type": "stream",
     "text": [
      "(10000, 4)\n"
     ]
    },
    {
     "data": {
      "text/html": [
       "<div>\n",
       "<style scoped>\n",
       "    .dataframe tbody tr th:only-of-type {\n",
       "        vertical-align: middle;\n",
       "    }\n",
       "\n",
       "    .dataframe tbody tr th {\n",
       "        vertical-align: top;\n",
       "    }\n",
       "\n",
       "    .dataframe thead th {\n",
       "        text-align: right;\n",
       "    }\n",
       "</style>\n",
       "<table border=\"1\" class=\"dataframe\">\n",
       "  <thead>\n",
       "    <tr style=\"text-align: right;\">\n",
       "      <th></th>\n",
       "      <th>customerId</th>\n",
       "      <th>productId</th>\n",
       "      <th>score</th>\n",
       "      <th>rank</th>\n",
       "    </tr>\n",
       "  </thead>\n",
       "  <tbody>\n",
       "    <tr>\n",
       "      <th>0</th>\n",
       "      <td>1553</td>\n",
       "      <td>2</td>\n",
       "      <td>0.144652</td>\n",
       "      <td>1</td>\n",
       "    </tr>\n",
       "    <tr>\n",
       "      <th>1</th>\n",
       "      <td>1553</td>\n",
       "      <td>5</td>\n",
       "      <td>0.092918</td>\n",
       "      <td>2</td>\n",
       "    </tr>\n",
       "    <tr>\n",
       "      <th>2</th>\n",
       "      <td>1553</td>\n",
       "      <td>1</td>\n",
       "      <td>0.092338</td>\n",
       "      <td>3</td>\n",
       "    </tr>\n",
       "    <tr>\n",
       "      <th>3</th>\n",
       "      <td>1553</td>\n",
       "      <td>35</td>\n",
       "      <td>0.089917</td>\n",
       "      <td>4</td>\n",
       "    </tr>\n",
       "    <tr>\n",
       "      <th>4</th>\n",
       "      <td>1553</td>\n",
       "      <td>17</td>\n",
       "      <td>0.075527</td>\n",
       "      <td>5</td>\n",
       "    </tr>\n",
       "  </tbody>\n",
       "</table>\n",
       "</div>"
      ],
      "text/plain": [
       "   customerId  productId     score  rank\n",
       "0        1553          2  0.144652     1\n",
       "1        1553          5  0.092918     2\n",
       "2        1553          1  0.092338     3\n",
       "3        1553         35  0.089917     4\n",
       "4        1553         17  0.075527     5"
      ]
     },
     "execution_count": 73,
     "metadata": {},
     "output_type": "execute_result"
    }
   ],
   "source": [
    "df_rec = recom.to_dataframe()\n",
    "print(df_rec.shape)\n",
    "df_rec.head()"
   ]
  },
  {
   "cell_type": "code",
   "execution_count": null,
   "metadata": {},
   "outputs": [],
   "source": []
  }
 ],
 "metadata": {
  "kernelspec": {
   "display_name": "Python 3",
   "language": "python",
   "name": "python3"
  },
  "language_info": {
   "codemirror_mode": {
    "name": "ipython",
    "version": 3
   },
   "file_extension": ".py",
   "mimetype": "text/x-python",
   "name": "python",
   "nbconvert_exporter": "python",
   "pygments_lexer": "ipython3",
   "version": "3.7.6"
  }
 },
 "nbformat": 4,
 "nbformat_minor": 2
}
